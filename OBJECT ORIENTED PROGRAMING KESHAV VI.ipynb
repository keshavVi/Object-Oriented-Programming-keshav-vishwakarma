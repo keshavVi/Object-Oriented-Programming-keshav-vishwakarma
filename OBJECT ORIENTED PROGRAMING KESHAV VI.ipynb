{
 "cells": [
  {
   "cell_type": "code",
   "execution_count": null,
   "id": "b03a878d-b3ab-4904-92ec-9f08f6db6ae8",
   "metadata": {},
   "outputs": [],
   "source": [
    "#10 Explain the importance of Functions0\n",
    "Importance of Functions\n",
    "Functions are crucial in programming because they allow us to group code into reusable blocks. They help:\n",
    "\n",
    "Encapsulation: Functions hide complexity, making code easier to manage and understand.\n",
    "Code Reusability: Once a function is defined, it can be called multiple times without rewriting the same code.\n",
    "Modularity: Breaking down complex problems into smaller, manageable tasks improves maintainability.\n",
    "Testing: Functions can be isolated and tested for correctness.\n"
   ]
  },
  {
   "cell_type": "code",
   "execution_count": null,
   "id": "9c421f1f-ba31-40cd-9362-5394947fae22",
   "metadata": {},
   "outputs": [],
   "source": [
    "#2Write a basic function to greet students\n",
    "def greet_students(name):\n",
    "    return f\"Hello, {name}!\"\n"
   ]
  },
  {
   "cell_type": "code",
   "execution_count": null,
   "id": "bc6dbc91-bc2f-4415-8731-068f5166d6bb",
   "metadata": {},
   "outputs": [],
   "source": [
    "#3What is the difference between print and return statements\n",
    "print(): Displays the output on the screen but doesn't pass the value back to the caller.\n",
    "return: Sends the value back to the caller, allowing the result to be used elsewhere in the program.\n"
   ]
  },
  {
   "cell_type": "code",
   "execution_count": null,
   "id": "7421d5a7-a8d8-4f50-aa9b-bd1b912b4194",
   "metadata": {},
   "outputs": [],
   "source": [
    "#4What are *args and **kwargs\n",
    "*args: Allows a function to accept any number of positional arguments as a tuple.\n",
    "**kwargs: Allows a function to accept any number of keyword arguments as a dictionary."
   ]
  },
  {
   "cell_type": "code",
   "execution_count": null,
   "id": "41f5c4b1-e1f9-452b-8833-c0e0ed320555",
   "metadata": {},
   "outputs": [],
   "source": [
    "#50 Explain the iterator function\n",
    "An iterator is an object that implements the iterator protocol: it has two methods:\n",
    "\n",
    "__iter__(): Initializes the iterator.\n",
    "__next__(): Returns the next item in the sequence or raises StopIteration when no items are left."
   ]
  },
  {
   "cell_type": "code",
   "execution_count": null,
   "id": "27f05132-548f-4921-811a-4db11871851e",
   "metadata": {},
   "outputs": [],
   "source": [
    "#6Write a code that generates the squares of numbers from 1 to n using a generator0\n",
    "def square_numbers(n):\n",
    "    for i in range(1, n+1):\n",
    "        yield i**2\n"
   ]
  },
  {
   "cell_type": "code",
   "execution_count": null,
   "id": "514a6fc8-402d-4484-b9fe-b3bbaa7071ed",
   "metadata": {},
   "outputs": [],
   "source": [
    "#7Write a code that generates palindromic numbers up to n using a generator\n",
    "def palindrome_numbers(n):\n",
    "    for num in range(1, n+1):\n",
    "        if str(num) == str(num)[::-1]:\n",
    "            yield num\n"
   ]
  },
  {
   "cell_type": "code",
   "execution_count": null,
   "id": "b1687bf2-fef7-4909-bedc-97c863479cad",
   "metadata": {},
   "outputs": [],
   "source": [
    "#8 Write a code that generates even numbers from 2 to n using a generator\n",
    "def even_numbers(n):\n",
    "    for num in range(2, n+1, 2):\n",
    "        yield num\n"
   ]
  },
  {
   "cell_type": "code",
   "execution_count": null,
   "id": "a7087973-c30e-461a-8dee-5c8c91d046e8",
   "metadata": {},
   "outputs": [],
   "source": [
    "\n",
    "#9Write a code that generates powers of two up to n using a generator\n",
    "def powers_of_two(n):\n",
    "    i = 1\n",
    "    while i <= n:\n",
    "        yield i\n",
    "        i *= 2\n"
   ]
  },
  {
   "cell_type": "code",
   "execution_count": null,
   "id": "3639f1f5-d7a7-42bb-88c4-dac73b7a76d0",
   "metadata": {},
   "outputs": [],
   "source": [
    "#10  Write a code that generates prime numbers up to n using a generator\n",
    "def is_prime(num):\n",
    "    if num <= 1:\n",
    "        return False\n",
    "    for i in range(2, int(num**0.5) + 1):\n",
    "        if num % i == 0:\n",
    "            return False\n",
    "    return True\n",
    "\n",
    "def prime_numbers(n):\n",
    "    for num in range(2, n+1):\n",
    "        if is_prime(num):\n",
    "            yield num\n"
   ]
  },
  {
   "cell_type": "code",
   "execution_count": null,
   "id": "01ef7f49-26bc-43ed-8baf-8190e6e8c5af",
   "metadata": {},
   "outputs": [],
   "source": [
    "#11 Write a code that uses a lambda function to calculate the sum of two numbers\n",
    "sum_two = lambda a, b: a + b\n"
   ]
  },
  {
   "cell_type": "code",
   "execution_count": null,
   "id": "5379f0d7-78a2-4c69-9c67-53ab2d1ec637",
   "metadata": {},
   "outputs": [],
   "source": [
    "#12 Write a code that uses a lambda function to calculate the square of a given number\n",
    "square = lambda x: x ** 2\n"
   ]
  },
  {
   "cell_type": "code",
   "execution_count": null,
   "id": "1fe345de-317d-4b79-a4eb-9bf2b82f8d28",
   "metadata": {},
   "outputs": [],
   "source": [
    "#13 Write a code that uses a lambda function to check whether a given number is even or odd\n",
    "even_or_odd = lambda x: \"Even\" if x % 2 == 0 else \"Odd\"\n"
   ]
  },
  {
   "cell_type": "code",
   "execution_count": null,
   "id": "f1817295-cd84-4c99-b8ff-509d67cec0e8",
   "metadata": {},
   "outputs": [],
   "source": [
    "#15 Write a code that uses a lambda function to concatenate two strings\n",
    "concat_strings = lambda a, b: a + b\n"
   ]
  },
  {
   "cell_type": "code",
   "execution_count": null,
   "id": "7c42b99b-65e2-4894-880c-1794fabc98d9",
   "metadata": {},
   "outputs": [],
   "source": [
    "#16 Write a code that uses a lambda function to find the maximum of three given numbers\n",
    "max_num = lambda a, b, c: max(a, b, c)\n",
    "print(max_num(3, 7, 5))  # Output: 7\n"
   ]
  },
  {
   "cell_type": "code",
   "execution_count": null,
   "id": "1489b1fe-6aed-41c2-b8ba-ce400389210d",
   "metadata": {},
   "outputs": [],
   "source": [
    "#17 Write a code that generates the squares of even numbers from a given list\n",
    "numbers = [1, 2, 3, 4, 5, 6, 7, 8]\n",
    "even_squares = list(map(lambda x: x**2, filter(lambda x: x % 2 == 0, numbers)))\n",
    "print(even_squares)  # Output: [4, 16, 36, 64]\n"
   ]
  },
  {
   "cell_type": "code",
   "execution_count": null,
   "id": "708e4e8b-2b79-43f3-a966-d90b1efbd3bf",
   "metadata": {},
   "outputs": [],
   "source": [
    "#18 Write a code that calculates the product of positive numbers from a given list\n",
    "numbers = [1, -2, 3, -4, 5]\n",
    "product = 1\n",
    "for num in filter(lambda x: x > 0, numbers):\n",
    "    product *= num\n",
    "print(product)  # Output: 15\n"
   ]
  },
  {
   "cell_type": "code",
   "execution_count": null,
   "id": "d7f8035f-1b49-4188-a392-3af5527a2d42",
   "metadata": {},
   "outputs": [],
   "source": [
    "#19 Write a code that doubles the values of odd numbers from a given list\n",
    "numbers = [1, 2, 3, 4, 5]\n",
    "doubled_odds = list(map(lambda x: x * 2, filter(lambda x: x % 2 != 0, numbers)))\n",
    "print(doubled_odds)  # Output: [2, 6, 10]\n"
   ]
  },
  {
   "cell_type": "code",
   "execution_count": null,
   "id": "715d020d-fff8-4215-982a-bed055634da4",
   "metadata": {},
   "outputs": [],
   "source": [
    "#20 Write a code that calculates the sum of cubes of numbers from a given list0\n",
    "numbers = [1, 2, 3, 4]\n",
    "sum_of_cubes = sum(map(lambda x: x**3, numbers))\n",
    "print(sum_of_cubes)  # Output: 100\n"
   ]
  },
  {
   "cell_type": "code",
   "execution_count": null,
   "id": "bbd3b0a2-75a3-424e-b219-44fc98a273dc",
   "metadata": {},
   "outputs": [],
   "source": [
    "#21 Write a code that filters out prime numbers from a given list\n",
    "def is_prime(num):\n",
    "    if num < 2:\n",
    "        return False\n",
    "    for i in range(2, num):\n",
    "        if num % i == 0:\n",
    "            return False\n",
    "    return True\n",
    "\n",
    "numbers = [2, 3, 4, 5, 6, 7, 8, 9, 10]\n",
    "non_prime_numbers = list(filter(lambda x: not is_prime(x), numbers))\n",
    "print(non_prime_numbers)  # Output: [4, 6, 8, 9, 10]\n"
   ]
  },
  {
   "cell_type": "code",
   "execution_count": null,
   "id": "d83a122b-b6f7-445b-ae83-b83c62db1f55",
   "metadata": {},
   "outputs": [],
   "source": [
    "#22 Write a code that uses a lambda function to calculate the sum of two numbers\n",
    "sum_numbers = lambda a, b: a + b\n",
    "print(sum_numbers(3, 5))  # Output: 8\n"
   ]
  },
  {
   "cell_type": "code",
   "execution_count": null,
   "id": "dc1a6a73-7f85-4ba9-ba17-8b6325e3b78b",
   "metadata": {},
   "outputs": [],
   "source": [
    "#23 Write a code that uses a lambda function to calculate the square of a given number\n",
    "square = lambda x: x**2\n",
    "print(square(4))  # Output: 16\n"
   ]
  },
  {
   "cell_type": "code",
   "execution_count": null,
   "id": "9fe3a0b3-6f3a-4166-a94a-9f5078af97c0",
   "metadata": {},
   "outputs": [],
   "source": [
    "#24 Write a code that uses a lambda function to check whether a given number is even or odd0\n",
    "even_or_odd = lambda x: \"Even\" if x % 2 == 0 else \"Odd\"\n",
    "print(even_or_odd(7))  # Output: Odd\n"
   ]
  },
  {
   "cell_type": "code",
   "execution_count": null,
   "id": "317043df-1fd4-4fbb-a4cc-41569d02881b",
   "metadata": {},
   "outputs": [],
   "source": [
    "#25 0 Write a code that uses a lambda function to concatenate two strings0\n",
    "concat_strings = lambda a, b: a + b\n",
    "print(concat_strings(\"Hello, \", \"World!\"))  # Output: Hello, World!\n"
   ]
  },
  {
   "cell_type": "code",
   "execution_count": null,
   "id": "82e7fe44-fdef-48e0-b1de-c9db49e67c8e",
   "metadata": {},
   "outputs": [],
   "source": [
    "#26 Write a code that uses a lambda function to find the maximum of three given numbers0\n",
    "max_num = lambda a, b, c: max(a, b, c)\n",
    "print(max_num(3, 7, 5))  # Output: 7\n"
   ]
  },
  {
   "cell_type": "code",
   "execution_count": null,
   "id": "45ed7b9e-07a1-4d61-afd4-1dea5cb0d875",
   "metadata": {},
   "outputs": [],
   "source": [
    "#27 What is encapsulation in OOP?\n",
    "Encapsulation in OOP: Encapsulation is an object-oriented programming principle\n",
    "where the data (variables) and methods (functions) are bundled together inside a class. \n",
    "It restricts access to certain details of an object's\n",
    "internal state and only exposes necessary parts of the functionality. \n",
    "This is achieved through access modifiers like private, protected, and public."
   ]
  },
  {
   "cell_type": "code",
   "execution_count": null,
   "id": "f1efeb30-6cba-4a8a-ad9c-dcd6acd50564",
   "metadata": {},
   "outputs": [],
   "source": [
    "#28 Explain the use of access modifiers in Python classes\n",
    "Access Modifiers in Python: In Python, access modifiers control the visibility of class attributes and methods. They include:\n",
    "\n",
    "Public: Accessible from outside the class (default).\n",
    "Protected: Denoted by a single underscore _, meant to indicate that it should not be accessed directly.\n",
    "Private: Denoted by double underscores __, intended to hide the attribute from outside access."
   ]
  },
  {
   "cell_type": "code",
   "execution_count": null,
   "id": "cd06a476-c64a-4745-90a1-d7a4f81369d5",
   "metadata": {},
   "outputs": [],
   "source": [
    "#29 What is inheritance in OOP%\n",
    "Inheritance in OOP: Inheritance is a mechanism in OOP where a new class (child class) can inherit attributes and\n",
    "methods from an existing class (parent class). \n",
    "This allows for code reuse and the creation of more specialized classes based on general ones."
   ]
  },
  {
   "cell_type": "code",
   "execution_count": null,
   "id": "18a3a95f-38ed-421c-841e-fea5e20865a6",
   "metadata": {},
   "outputs": [],
   "source": [
    "#30 Define polymorphism in OOP ?\n",
    "Polymorphism in OOP: Polymorphism allows objects of different classes to be treated as objects of a common superclass.\n",
    "It enables the use of a single interface for different data types, \n",
    "Fallowing methods to behave differently depending on the object that invokes them\n",
    "                                                                                "
   ]
  },
  {
   "cell_type": "code",
   "execution_count": null,
   "id": "be353ed2-f4c6-444d-bd0d-fe4d1f4b214b",
   "metadata": {},
   "outputs": [],
   "source": [
    "#31 Explain method overriding in Python\n",
    "Method overriding in Python occurs when a child class defines a method with the same name as a method in its parent class, \n",
    "but with a different implementation. This allows the child class \n",
    "to provide its own version of the method, which will be called instead of the parent class method when invoked on an instance of the child class."
   ]
  },
  {
   "cell_type": "code",
   "execution_count": null,
   "id": "bc6b8a79-bfa4-4b01-9b46-76ac39b0fc68",
   "metadata": {},
   "outputs": [],
   "source": [
    " #32Define a parent class Animal with a method make_sound that prints \"Generic animal sound\". Create a\n",
    "#child class Dog inheriting from Animal with a method make_sound that prints \"Woof!\"\n",
    "class Animal:\n",
    "    def make_sound(self):\n",
    "        print(\"Generic animal sound\")\n",
    "\n",
    "    def move(self):\n",
    "        print(\"Animal moves\")\n",
    "class Dog(Animal):\n",
    "    def make_sound(self):\n",
    "        print(\"Woof!\")\n",
    "    \n",
    "    def move(self):\n",
    "        print(\"Dog runs\")\n"
   ]
  },
  {
   "cell_type": "code",
   "execution_count": null,
   "id": "c563b1d2-0a1e-4b8d-ac09-fa9bc64f692f",
   "metadata": {},
   "outputs": [],
   "source": [
    "#33Define a method move in the Animal class that prints \"Animal moves\". Override the move method in the\n",
    "#Dog class to print \"Dog runs.\n",
    "class Animal:\n",
    "    def make_sound(self):\n",
    "        print(\"Generic animal sound\")\n",
    "\n",
    "    def move(self):\n",
    "        print(\"Animal moves\")\n",
    "class Dog(Animal):\n",
    "    def make_sound(self):\n",
    "        print(\"Woof!\")\n",
    "    \n",
    "    def move(self):\n",
    "        print(\"Dog runs\")"
   ]
  },
  {
   "cell_type": "code",
   "execution_count": null,
   "id": "24f272c6-a8e2-4c12-bb94-9ca2919d5fc3",
   "metadata": {},
   "outputs": [],
   "source": [
    "#34 Create a class Mammal with a method reproduce that prints \"Giving birth to live young.\" Create a class\n",
    "# DogMammal inheriting from both Dog and Mammal\u001c",
    "\n",
    "class Mammal:\n",
    "    def reproduce(self):\n",
    "        print(\"Giving birth to live young.\")\n",
    "        \n",
    "class DogMammal(Dog, Mammal):\n",
    "    pass\n"
   ]
  },
  {
   "cell_type": "code",
   "execution_count": null,
   "id": "ee848b84-4869-4976-8537-075026933ea0",
   "metadata": {},
   "outputs": [],
   "source": [
    "#35 Create a class GermanShepherd inheriting from Dog and override the make_sound method to print\n",
    "#\"Bark!8\n",
    "class GermanShepherd(Dog):\n",
    "    def make_sound(self):\n",
    "        print(\"Bark!\")\n",
    "\n"
   ]
  },
  {
   "cell_type": "code",
   "execution_count": null,
   "id": "ccb88460-3979-4baa-9103-a6d2c2b16a3b",
   "metadata": {},
   "outputs": [],
   "source": [
    "#36 Define constructors in both the Animal and Dog classes with different initialization parameters\n",
    "class Animal:\n",
    "    def __init__(self, species):\n",
    "        self.species = species\n",
    "        \n",
    "    def make_sound(self):\n",
    "        print(\"Generic animal sound\")\n",
    "\n",
    "class Dog(Animal):\n",
    "    def __init__(self, species, breed):\n",
    "        super().__init__(species)\n",
    "        self.breed = breed\n",
    "        \n",
    "    def make_sound(self):\n",
    "        print(\"Woof!\")\n"
   ]
  },
  {
   "cell_type": "code",
   "execution_count": null,
   "id": "e60f16fd-087d-4924-867f-fcc5ec1bdf01",
   "metadata": {},
   "outputs": [],
   "source": [
    "#37 What is abstraction in Python? How is it implemented%\n",
    "Abstraction in Python refers to the concept of hiding the implementation details of a function\n",
    "or class and only exposing essential information. \n",
    "This can be achieved using abstract base classes (ABCs) and abstract methods.\n",
    "    from abc import ABC, abstractmethod\n",
    "\n",
    "class Animal(ABC):\n",
    "    @abstractmethod\n",
    "    def make_sound(self):\n",
    "        pass\n",
    "    \n",
    "class Dog(Animal):\n",
    "    def make_sound(self):\n",
    "        print(\"Woof!\")\n"
   ]
  },
  {
   "cell_type": "code",
   "execution_count": null,
   "id": "8cb9e1cb-fd54-4466-b035-a53ccc40d3cf",
   "metadata": {},
   "outputs": [],
   "source": [
    "#38 Explain the importance of abstraction in object-oriented programming\n",
    "Abstraction simplifies the design by allowing developers to focus on essential characteristics while hiding unnecessary details. \n",
    "It ensures that different subclasses can provide their own implementation of abstract methods, promoting flexibility and scalability."
   ]
  },
  {
   "cell_type": "code",
   "execution_count": null,
   "id": "d17b1a0d-79f7-4c81-b30c-622abab39699",
   "metadata": {},
   "outputs": [],
   "source": [
    "#39 How are abstract methods different from regular methods in Python%\n",
    "Abstract vs Regular Methods\n",
    "Abstract Methods: These are methods that are declared in an abstract class with no implementation. Subclasses are required to override them.\n",
    "Regular Methods: These have a defined implementation in the parent class or can be overridden in the child class"
   ]
  },
  {
   "cell_type": "code",
   "execution_count": null,
   "id": "6c562052-a44e-4545-bd71-e11fce0b20b9",
   "metadata": {},
   "outputs": [],
   "source": [
    "#40  How can you achieve abstraction using interfaces in Python%\n",
    "n Python, abstraction can be achieved through interfaces using abstract base classes. An interface defines methods that must be implemented by any class that inherits from it.\n",
    "\n",
    "Example of Abstraction through an Interface\n",
    "python\n",
    "Copy code\n",
    "from abc import ABC, abstractmethod\n",
    "\n",
    "class AnimalInterface(ABC):\n",
    "    @abstractmethod\n",
    "    def make_sound(self):\n",
    "        pass\n",
    "\n",
    "class Dog(AnimalInterface):\n",
    "    def make_sound(self):\n",
    "        print(\"Woof!\")"
   ]
  },
  {
   "cell_type": "code",
   "execution_count": null,
   "id": "d5d3be4e-4ba6-4188-9147-de3694b26a8e",
   "metadata": {},
   "outputs": [],
   "source": [
    "#41 Can you provide an example of how abstraction can be utilized to create a common interface for a group\n",
    "#of related classes in Python%\n",
    "from abc import ABC, abstractmethod\n",
    "\n",
    "class AnimalInterface(ABC):\n",
    "    @abstractmethod\n",
    "    def make_sound(self):\n",
    "        pass\n",
    "\n",
    "class Dog(AnimalInterface):\n",
    "    def make_sound(self):\n",
    "        print(\"Woof!\")"
   ]
  },
  {
   "cell_type": "code",
   "execution_count": null,
   "id": "3c44c76d-2dce-46d6-b3fc-ec147bdcc62a",
   "metadata": {},
   "outputs": [],
   "source": [
    "#42 How does Python achieve polymorphism through method overriding%\n",
    "Polymorphism allows objects of different classes to be treated as\n",
    "objects of a common superclass, and their methods can be overridden to provide different behaviors.\n",
    "class Animal:\n",
    "    def make_sound(self):\n",
    "        print(\"Generic animal sound\")\n",
    "\n",
    "class Dog(Animal):\n",
    "    def make_sound(self):\n",
    "        print(\"Woof!\")\n",
    "\n",
    "def animal_sound(animal):\n",
    "    animal.make_sound()\n",
    "\n",
    "# Using polymorphism\n",
    "a = Animal()\n",
    "d = Dog()\n",
    "\n",
    "animal_sound(a)  # Output: Generic animal sound\n",
    "animal_sound(d)  # Output: Woof!\n"
   ]
  },
  {
   "cell_type": "code",
   "execution_count": null,
   "id": "692266b2-29e1-4b77-8a67-183d2cfe6ba1",
   "metadata": {},
   "outputs": [],
   "source": [
    "#43  Define a base class with a method and a subclass that overrides the method\n",
    "# Base class\n",
    "class Animal:\n",
    "    def sound(self):\n",
    "        print(\"Animal makes a sound\")\n",
    "\n",
    "# Subclass\n",
    "class Dog(Animal):\n",
    "    def sound(self):\n",
    "        print(\"Dog barks\")\n",
    "\n",
    "# Usage\n",
    "a = Animal()\n",
    "a.sound()  # Output: Animal makes a sound\n",
    "\n",
    "d = Dog()\n",
    "d.sound()  # Output: Dog barks\n"
   ]
  },
  {
   "cell_type": "code",
   "execution_count": null,
   "id": "ea5c2d97-9ddf-427f-9d68-4ed2901542e2",
   "metadata": {},
   "outputs": [],
   "source": [
    "#44  Define a base class and multiple subclasses with overridden methods\n",
    "class Animal:\n",
    "    def sound(self):\n",
    "        print(\"Animal makes a sound\")\n",
    "\n",
    "class Dog(Animal):\n",
    "    def sound(self):\n",
    "        print(\"Dog barks\")\n",
    "\n",
    "class Cat(Animal):\n",
    "    def sound(self):\n",
    "        print(\"Cat meows\")\n",
    "\n",
    "# Usage\n",
    "dog = Dog()\n",
    "dog.sound()  # Output: Dog barks\n",
    "\n",
    "cat = Cat()\n",
    "cat.sound()  # Output: Cat meows\n"
   ]
  },
  {
   "cell_type": "code",
   "execution_count": null,
   "id": "02c7b5d7-5647-4b0d-9fb0-8dddf32bb2bc",
   "metadata": {},
   "outputs": [],
   "source": [
    "#45 How does polymorphism improve code readability and reusability%\n",
    "Polymorphism allows objects of different classes to be treated as objects of a common superclass.\n",
    "This improves code readability and reusability because:\n",
    "\n",
    "Readability: The same method name can be used across different classes, reducing the need to remember multiple method names.\n",
    "Reusability: The same interface can work with different types of objects, leading to less code duplication."
   ]
  },
  {
   "cell_type": "code",
   "execution_count": null,
   "id": "0a7a17ef-383a-4289-a9ef-3adc92e4fb8c",
   "metadata": {},
   "outputs": [],
   "source": [
    "#46 Describe how Python supports polymorphism with duck typing\n",
    "Python supports polymorphism through duck typing, which means that an object’s suitability for \n",
    "a particular operation is determined by its behavior rather than its explicit type. \n",
    "If an object can \"quack like a duck,\" it can be treated as a duck, regardless of its actual class.\n",
    "class Dog:\n",
    "    def speak(self):\n",
    "        print(\"Woof!\")\n",
    "\n",
    "class Duck:\n",
    "    def speak(self):\n",
    "        print(\"Quack!\")\n",
    "\n",
    "def make_sound(animal):\n",
    "    animal.speak()\n",
    "\n",
    "# Both Dog and Duck can be passed to the same function, demonstrating polymorphism.\n",
    "make_sound(Dog())  # Output: Woof!\n",
    "make_sound(Duck())  # Output: Quack!\n"
   ]
  },
  {
   "cell_type": "code",
   "execution_count": null,
   "id": "848dd51e-e670-4425-abef-e18cb95eb58b",
   "metadata": {},
   "outputs": [],
   "source": [
    "#47  How do you achieve encapsulation in Python%\n",
    "Encapsulation is achieved in Python through private and protected access modifiers.\n",
    "It involves hiding the internal details of a class and providing controlled access to the attributes and methods.\n",
    "\n",
    "python\n",
    "Copy code\n",
    "class BankAccount:\n",
    "    def __init__(self, balance):\n",
    "        self.__balance = balance  # Private attribute\n",
    "\n",
    "    def deposit(self, amount):\n",
    "        if amount > 0:\n",
    "            self.__balance += amount\n",
    "\n",
    "    def withdraw(self, amount):\n",
    "        if amount <= self.__balance:\n",
    "            self.__balance -= amount\n",
    "\n",
    "    def check_balance(self):\n",
    "        return self.__balance"
   ]
  },
  {
   "cell_type": "code",
   "execution_count": null,
   "id": "a3882251-4760-4056-86d2-3db095d6e9b3",
   "metadata": {},
   "outputs": [],
   "source": [
    "#48 Can encapsulation be bypassed in Python? If so, how\n",
    "Yes, encapsulation can be bypassed in Python.\n",
    "Since Python does not have strict access control mechanisms like other languages, \n",
    "you can still access private attributes using name mangling. The private attribute is stored with a modified name (e.g., self._ClassName__attribute).\n",
    "\n",
    "python\n",
    "Copy code\n",
    "account = BankAccount(1000)\n",
    "print(account._BankAccount__balance)"
   ]
  },
  {
   "cell_type": "code",
   "execution_count": null,
   "id": "0e047b36-063f-4ea6-915b-25ef3eda28cc",
   "metadata": {},
   "outputs": [],
   "source": [
    "#49 Implement a class BankAccount with a private balance attribute. Include methods to deposit, withdraw,\n",
    "# and check the balance\n",
    "class BankAccount:\n",
    "    def __init__(self, balance):\n",
    "        self.__balance = balance  # Private balance\n",
    "\n",
    "    def deposit(self, amount):\n",
    "        if amount > 0:\n",
    "            self.__balance += amount\n",
    "\n",
    "    def withdraw(self, amount):\n",
    "        if amount <= self.__balance:\n",
    "            self.__balance -= amount\n",
    "\n",
    "    def check_balance(self):\n",
    "        return self.__balance\n",
    "\n",
    "# Usage\n",
    "account = BankAccount(1000)\n",
    "account.deposit(500)\n",
    "print(account.check_balance())  # Output: 1500\n",
    "account.withdraw(200)\n",
    "print(account.check_balance())  # Output: 1300\n",
    "\n"
   ]
  },
  {
   "cell_type": "code",
   "execution_count": null,
   "id": "2dbcbdf7-a07e-409a-b4b4-495f5b20ba44",
   "metadata": {},
   "outputs": [],
   "source": [
    "#50  Develop a Person class with private attributes name and email, and methods to set and get the email\n",
    "class Person:\n",
    "    def __init__(self, name, email):\n",
    "        self.__name = name  # Private attribute\n",
    "        self.__email = email  # Private attribute\n",
    "\n",
    "    def set_email(self, email):\n",
    "        self.__email = email\n",
    "\n",
    "    def get_email(self):\n",
    "        return self.__email\n",
    "\n",
    "# Usage\n",
    "person = Person(\"John Doe\", \"john.doe@example.com\")\n",
    "person.set_email(\"new.email@example.com\")\n",
    "print(person.get_email())  # Output: new.email@example.com\n"
   ]
  },
  {
   "cell_type": "code",
   "execution_count": null,
   "id": "b60d61ff-dc74-4994-a155-aeb20d0fc512",
   "metadata": {},
   "outputs": [],
   "source": [
    "#51  Why is encapsulation considered a pillar of object-oriented programming (OOP)?\n",
    "Encapsulation is considered one of the key pillars of OOP because:\n",
    "\n",
    "It protects an object's state from unwanted changes.\n",
    "It allows an object to control how its data is accessed and modified.\n",
    "It promotes modularity, reducing the complexity of systems.\n",
    "It enhances maintenance by centralizing the logic for data access and modification."
   ]
  },
  {
   "cell_type": "code",
   "execution_count": null,
   "id": "d82762e7-6908-476b-9ecf-c7bf0c9cfc0a",
   "metadata": {},
   "outputs": [],
   "source": [
    "#52 Create a decorator in Python that adds functionality to a simple function by printing a message before\n",
    "#and after the function execution/\n",
    "def decorator(func):\n",
    "    def wrapper(*args, **kwargs):\n",
    "        print(\"Before function execution\")\n",
    "        result = func(*args, **kwargs)\n",
    "        print(\"After function execution\")\n",
    "        return result\n",
    "    return wrapper\n",
    "\n",
    "@decorator\n",
    "def greet(name):\n",
    "    print(f\"Hello, {name}\")\n",
    "\n",
    "# Usage\n",
    "greet(\"Alice\")\n",
    "# Output:\n",
    "# Before function execution\n",
    "# Hello, Alice\n",
    "# After function execution\n"
   ]
  },
  {
   "cell_type": "code",
   "execution_count": null,
   "id": "35b6710c-69e0-4990-a8d6-6d6421442754",
   "metadata": {},
   "outputs": [],
   "source": [
    "#53 / Modify the decorator to accept arguments and print the function name along with the message\n",
    "def decorator(func):\n",
    "    def wrapper(*args, **kwargs):\n",
    "        print(f\"Executing {func.__name__} function...\")\n",
    "        result = func(*args, **kwargs)\n",
    "        return result\n",
    "    return wrapper\n",
    "\n",
    "@decorator\n",
    "def greet(name):\n",
    "    print(f\"Hello, {name}\")\n",
    "\n",
    "# Usage\n",
    "greet(\"Alice\")\n",
    "# Output:\n",
    "# Executing greet function...\n",
    "# Hello, Alice\n"
   ]
  },
  {
   "cell_type": "code",
   "execution_count": null,
   "id": "66310c6a-db5c-4728-9442-5bb25133f66c",
   "metadata": {},
   "outputs": [],
   "source": [
    "#54 Create two decorators, and apply them to a single function. Ensure that they execute in the order they are\n",
    "#applied/\n",
    "def decorator_one(func):\n",
    "    def wrapper(*args, **kwargs):\n",
    "        print(\"Decorator One applied\")\n",
    "        return func(*args, **kwargs)\n",
    "    return wrapper\n",
    "\n",
    "def decorator_two(func):\n",
    "    def wrapper(*args, **kwargs):\n",
    "        print(\"Decorator Two applied\")\n",
    "        return func(*args, **kwargs)\n",
    "    return wrapper\n",
    "\n",
    "@decorator_one\n",
    "@decorator_two\n",
    "def greet(name):\n",
    "    print(f\"Hello, {name}\")\n",
    "\n",
    "# Usage\n",
    "greet(\"Alice\")\n",
    "# Output:\n",
    "# Decorator One applied\n",
    "# Decorator Two applied\n",
    "# Hello, Alice\n"
   ]
  },
  {
   "cell_type": "code",
   "execution_count": null,
   "id": "d58b3bd6-1054-4fe8-b940-184124d11235",
   "metadata": {},
   "outputs": [],
   "source": [
    "#55  Modify the decorator to accept and pass function arguments to the wrapped function/\n",
    "def decorator(func):\n",
    "    def wrapper(*args, **kwargs):\n",
    "        print(\"Before function execution\")\n",
    "        result = func(*args, **kwargs)\n",
    "        print(\"After function execution\")\n",
    "        return result\n",
    "    return wrapper\n",
    "\n",
    "@decorator\n",
    "def greet(name, age):\n",
    "    print(f\"Hello, {name}, you are {age} years old.\")\n",
    "\n",
    "# Usage\n",
    "greet(\"Alice\", 30)\n",
    "# Output:\n",
    "# Before function execution\n",
    "# Hello, Alice, you are 30 years old.\n",
    "# After function execution\n"
   ]
  },
  {
   "cell_type": "code",
   "execution_count": null,
   "id": "3f6bd2f3-3b43-4773-a5fc-90b5cd11f918",
   "metadata": {},
   "outputs": [],
   "source": [
    "#56 Create a decorator that preserves the metadata of the original function\n",
    "from functools import wraps\n",
    "\n",
    "def decorator(func):\n",
    "    @wraps(func)\n",
    "    def wrapper(*args, **kwargs):\n",
    "        print(\"Before function execution\")\n",
    "        result = func(*args, **kwargs)\n",
    "        print(\"After function execution\")\n",
    "        return result\n",
    "    return wrapper\n",
    "\n",
    "@decorator\n",
    "def greet(name):\n",
    "    \"\"\"Greets a person by name.\"\"\"\n",
    "    print(f\"Hello, {name}\")\n",
    "\n",
    "# Usage\n",
    "print(greet.__name__)  # Output: greet (metadata preserved)\n",
    "print(greet.__doc__)   # Output: Greets a person by name.\n"
   ]
  },
  {
   "cell_type": "code",
   "execution_count": null,
   "id": "5cf24e98-f614-4697-979f-1cfdf4dad87b",
   "metadata": {},
   "outputs": [],
   "source": [
    "#57 Create a Python class `Calculator` with a static method `add` that takes in two numbers and returns their\n",
    "#sum/\n",
    "class Calculator:\n",
    "    @staticmethod\n",
    "    def add(a, b):\n",
    "        return a + b\n",
    "\n",
    "# Usage\n",
    "result = Calculator.add(5, 3)\n",
    "print(result)  # Output: 8\n"
   ]
  },
  {
   "cell_type": "code",
   "execution_count": null,
   "id": "d47410d2-67e0-4edc-aef7-72447fff521b",
   "metadata": {},
   "outputs": [],
   "source": [
    "#58  Create a Python class `Employee` with a class `method get_employee_count` that returns the total\n",
    "# number of employees created/\n",
    "class Employee:\n",
    "    employee_count = 0\n",
    "\n",
    "    def __init__(self, name):\n",
    "        self.name = name\n",
    "        Employee.employee_count += 1\n",
    "\n",
    "    @classmethod\n",
    "    def get_employee_count(cls):\n",
    "        return cls.employee_count\n",
    "\n",
    "# Usage\n",
    "e1 = Employee(\"Alice\")\n",
    "e2 = Employee(\"Bob\")\n",
    "print(Employee.get_employee_count())  # Output: 2\n"
   ]
  },
  {
   "cell_type": "code",
   "execution_count": null,
   "id": "a6a8de65-b497-4eed-a2dc-1d7f4e745e68",
   "metadata": {},
   "outputs": [],
   "source": [
    "#59 Create a Python class `StringFormatter` with a static method `reverse_string` that takes a string as input\n",
    "# and returns its reverse/\n",
    "class StringFormatter:\n",
    "    @staticmethod\n",
    "    def reverse_string(s):\n",
    "        return s[::-1]\n",
    "\n",
    "# Usage\n",
    "reversed_str = StringFormatter.reverse_string(\"hello\")\n",
    "print(reversed_str)  # Output: olleh\n"
   ]
  },
  {
   "cell_type": "code",
   "execution_count": null,
   "id": "ba66b845-caaf-4882-a907-a4de6f980584",
   "metadata": {},
   "outputs": [],
   "source": [
    "#60 Create a Python class `Circle` with a class method `calculate_area` that calculates the area of a circle\n",
    "# given its radius/ \n",
    "import math\n",
    "\n",
    "class Circle:\n",
    "    @classmethod\n",
    "    def calculate_area(cls, radius):\n",
    "        return math.pi * (radius ** 2)\n",
    "\n",
    "# Usage\n",
    "area = Circle.calculate_area(5)\n",
    "print(area)  # Output: 78.53981633974483\n"
   ]
  },
  {
   "cell_type": "code",
   "execution_count": null,
   "id": "0109980d-5f0c-4d55-9c88-00db00a411b9",
   "metadata": {},
   "outputs": [],
   "source": [
    "#61 Create a Python class `TemperatureConverter` with a static method `celsius_to_fahrenheit` that converts\n",
    "# Celsius to Fahrenheit\n",
    "class TemperatureConverter:\n",
    "    @staticmethod\n",
    "    def celsius_to_fahrenheit(celsius):\n",
    "        return (celsius * 9/5) + 32\n",
    "\n",
    "# Example usage\n",
    "temp_in_celsius = 25\n",
    "temp_in_fahrenheit = TemperatureConverter.celsius_to_fahrenheit(temp_in_celsius)\n",
    "print(f\"{temp_in_celsius}°C is equal to {temp_in_fahrenheit}°F.\")\n"
   ]
  },
  {
   "cell_type": "code",
   "execution_count": null,
   "id": "73186696-247d-4fd5-9de8-bee0752bf130",
   "metadata": {},
   "outputs": [],
   "source": [
    "#62 What is the purpose of the __str__() method in Python classes? Provide an example\n",
    "The __str__() method is used to define the string representation of an object. It is called when you use print() or str() on an object.\n",
    "\n",
    "Example:\n",
    "python\n",
    "Copy code\n",
    "class Person:\n",
    "    def __init__(self, name, age):\n",
    "        self.name = name\n",
    "        self.age = age\n",
    "\n",
    "    def __str__(self):\n",
    "        return f\"Person(name={self.name}, age={self.age})\"\n",
    "\n",
    "# Example usage\n",
    "person = Person(\"Alice\", 30)\n",
    "print(person)  # Output: Person(name=Alice, age=30)"
   ]
  },
  {
   "cell_type": "code",
   "execution_count": null,
   "id": "75fabdef-fd75-434b-9f84-6a1dc296771f",
   "metadata": {},
   "outputs": [],
   "source": [
    "#63 How does the __len__() method work in Python? Provide an example \n",
    "he __len__() method is used to define the behavior of the len() function for an object. It returns the number of items in the object.\n",
    "\n",
    "Example:\n",
    "python\n",
    "Copy code\n",
    "class MyList:\n",
    "    def __init__(self, items):\n",
    "        self.items = items\n",
    "\n",
    "    def __len__(self):\n",
    "        return len(self.items)\n",
    "\n",
    "# Example usage\n",
    "my_list = MyList([1, 2, 3, 4])\n",
    "print(len(my_list))  # Output: 4"
   ]
  },
  {
   "cell_type": "code",
   "execution_count": null,
   "id": "7035a008-0599-431e-9605-483f0e311a89",
   "metadata": {},
   "outputs": [],
   "source": [
    "#64 / Explain the usage of the __add__() method in Python classes. Provide an example\n",
    "he __add__() method is used to define how the + operator works with objects of a class.\n",
    "\n",
    "Example:\n",
    "python\n",
    "Copy code\n",
    "class Point:\n",
    "    def __init__(self, x, y):\n",
    "        self.x = x\n",
    "        self.y = y\n",
    "\n",
    "    def __add__(self, other):\n",
    "        return Point(self.x + other.x, self.y + other.y)\n",
    "\n",
    "    def __str__(self):\n",
    "        return f\"Point({self.x}, {self.y})\"\n",
    "\n",
    "# Example usage\n",
    "point1 = Point(1, 2)\n",
    "point2 = Point(3, 4)\n",
    "result = point1 + point2\n",
    "print(result)  # Output: Point(4, 6)\n"
   ]
  },
  {
   "cell_type": "code",
   "execution_count": null,
   "id": "0cc10db4-5af3-4d81-a10e-39ed04e923ad",
   "metadata": {},
   "outputs": [],
   "source": [
    "#65 What is the purpose of the __getitem__() method in Python? Provide an example\n",
    "he __getitem__() method allows objects to use the indexing syntax (i.e., obj[index]). It is used to retrieve an item from a container object.\n",
    "\n",
    "Example:\n",
    "python\n",
    "Copy code\n",
    "class MyDict:\n",
    "    def __init__(self):\n",
    "        self.data = {'key1': 'value1', 'key2': 'value2'}\n",
    "\n",
    "    def __getitem__(self, key):\n",
    "        return self.data[key]\n",
    "\n",
    "# Example usage\n",
    "my_dict = MyDict()\n",
    "print(my_dict['key1'])"
   ]
  },
  {
   "cell_type": "code",
   "execution_count": null,
   "id": "07840f2e-dcfe-4d44-988a-f39d412e4f8a",
   "metadata": {},
   "outputs": [],
   "source": [
    "#66 Explain the usage of the __iter__() and __next__() methods in Python. Provide an example using\n",
    "# iterators\n",
    "The __iter__() method is used to return an iterator object, and __next__() is used to retrieve the next item in the sequence.\n",
    "class Counter:\n",
    "    def __init__(self, low, high):\n",
    "        self.current = low\n",
    "        self.high = high\n",
    "\n",
    "    def __iter__(self):\n",
    "        return self\n",
    "\n",
    "    def __next__(self):\n",
    "        if self.current > self.high:\n",
    "            raise StopIteration\n",
    "        self.current += 1\n",
    "        return self.current - 1\n",
    "\n",
    "# Example usage\n",
    "counter = Counter(1, 3)\n",
    "for num in counter:\n",
    "    print(num)  # Output: 1 2 3\n"
   ]
  },
  {
   "cell_type": "code",
   "execution_count": null,
   "id": "00f26328-0280-4101-9eac-5f7bf37433ad",
   "metadata": {},
   "outputs": [],
   "source": [
    "#67 What is the purpose of a getter method in Python? Provide an example demonstrating the use of a getter\n",
    "# method using property decorators/\n",
    "A getter method is used to access the value of an attribute of a class. You can use property decorators to create getter methods\n",
    "class Rectangle:\n",
    "    def __init__(self, width, height):\n",
    "        self._width = width\n",
    "        self._height = height\n",
    "\n",
    "    @property\n",
    "    def area(self):\n",
    "        return self._width * self._height\n",
    "\n",
    "# Example usage\n",
    "rect = Rectangle(4, 5)\n",
    "print(rect.area)  # Output: 20\n"
   ]
  },
  {
   "cell_type": "code",
   "execution_count": null,
   "id": "a8c48706-d73e-445b-93c5-a48c816cf83a",
   "metadata": {},
   "outputs": [],
   "source": [
    "#68 Explain the role of setter methods in Python. Demonstrate how to use a setter method to modify a class\n",
    "# attribute using property decorators/\n",
    "A setter method is used to modify an attribute of a class. It is commonly used in conjunction with the @property decorator\n",
    "class Rectangle:\n",
    "    def __init__(self, width, height):\n",
    "        self._width = width\n",
    "        self._height = height\n",
    "\n",
    "    @property\n",
    "    def area(self):\n",
    "        return self._width * self._height\n",
    "\n",
    "    @area.setter\n",
    "    def area(self, value):\n",
    "        self._width = value / self._height\n",
    "\n",
    "# Example usage\n",
    "rect = Rectangle(4, 5)\n",
    "rect.area = 20  # Modify width using area\n",
    "print(rect._width)  # Output: 4.0\n"
   ]
  },
  {
   "cell_type": "code",
   "execution_count": null,
   "id": "17ff15a6-975e-41ff-8b47-28df08a15874",
   "metadata": {},
   "outputs": [],
   "source": [
    "#69 What is the purpose of the @property decorator in Python? Provide an example illustrating its usage\n",
    "The @property decorator is used to define a method as a property, allowing access to a class attribute in a read-only or read-write manner\n",
    "class Circle:\n",
    "    def __init__(self, radius):\n",
    "        self._radius = radius\n",
    "\n",
    "    @property\n",
    "    def area(self):\n",
    "        return 3.14 * self._radius * self._radius\n",
    "\n",
    "# Example usage\n",
    "circle = Circle(5)\n",
    "print(circle.area)  # Output: 78.5\n"
   ]
  },
  {
   "cell_type": "code",
   "execution_count": null,
   "id": "99cdedb9-23da-4b4b-8990-db3f046f3377",
   "metadata": {},
   "outputs": [],
   "source": [
    "#70 / Explain the use of the @deleter decorator in Python property decorators. Provide a code example\n",
    "# demonstrating its application\n",
    "The @deleter decorator is used to define a method that deletes an attribute in a class.\n",
    "class Circle:\n",
    "    def __init__(self, radius):\n",
    "        self._radius = radius\n",
    "\n",
    "    @property\n",
    "    def radius(self):\n",
    "        return self._radius\n",
    "\n",
    "    @radius.deleter\n",
    "    def radius(self):\n",
    "        print(\"Deleting radius...\")\n",
    "        del self._radius\n",
    "\n",
    "# Example usage\n",
    "circle = Circle(5)\n",
    "del circle.radius  # Output: Deleting radius...\n",
    "\n"
   ]
  },
  {
   "cell_type": "code",
   "execution_count": null,
   "id": "5050106e-84b4-456d-a8c0-49250d069535",
   "metadata": {},
   "outputs": [],
   "source": [
    "#71 How does encapsulation relate to property decorators in Python? Provide an example showcasing\n",
    "#  encapsulation using property decorators\n",
    "Encapsulation involves bundling data and methods that operate on the data within a class. \n",
    "Property decorators can help achieve encapsulation by controlling access to class attributes.\n"
   ]
  },
  {
   "cell_type": "code",
   "execution_count": null,
   "id": "5361b5f0-f079-450d-8149-d1d43e38aecf",
   "metadata": {},
   "outputs": [],
   "source": []
  },
  {
   "cell_type": "code",
   "execution_count": null,
   "id": "b3011689-dfe7-4edf-9277-c95bfae7e5d5",
   "metadata": {},
   "outputs": [],
   "source": []
  },
  {
   "cell_type": "code",
   "execution_count": null,
   "id": "3ee4b1b5-94ba-4d93-86eb-2d8111a07619",
   "metadata": {},
   "outputs": [],
   "source": []
  },
  {
   "cell_type": "code",
   "execution_count": null,
   "id": "ee096415-b028-4c66-b4f1-a42f66488e3d",
   "metadata": {},
   "outputs": [],
   "source": []
  },
  {
   "cell_type": "code",
   "execution_count": null,
   "id": "ec313598-83d3-442a-b2a6-6e01ec961094",
   "metadata": {},
   "outputs": [],
   "source": []
  },
  {
   "cell_type": "code",
   "execution_count": null,
   "id": "166f0bb4-8a88-494b-b498-802f184769db",
   "metadata": {},
   "outputs": [],
   "source": []
  },
  {
   "cell_type": "code",
   "execution_count": null,
   "id": "6cf3c522-7906-4c23-a69a-5b702166a19d",
   "metadata": {},
   "outputs": [],
   "source": []
  },
  {
   "cell_type": "code",
   "execution_count": null,
   "id": "33cbf5c4-b3d7-4b8b-877d-42de475cccd4",
   "metadata": {},
   "outputs": [],
   "source": []
  },
  {
   "cell_type": "code",
   "execution_count": null,
   "id": "a0c80185-4edc-42b3-b4f1-347e8ef8e196",
   "metadata": {},
   "outputs": [],
   "source": []
  },
  {
   "cell_type": "code",
   "execution_count": null,
   "id": "b4013c06-c103-40a1-8983-84b7dcd9d2ef",
   "metadata": {},
   "outputs": [],
   "source": []
  },
  {
   "cell_type": "code",
   "execution_count": null,
   "id": "aee616e8-041a-4b16-8a90-f9d6f8020316",
   "metadata": {},
   "outputs": [],
   "source": []
  },
  {
   "cell_type": "code",
   "execution_count": null,
   "id": "388414cd-8b7c-4057-a493-5eadc54b27d4",
   "metadata": {},
   "outputs": [],
   "source": []
  },
  {
   "cell_type": "code",
   "execution_count": null,
   "id": "b826e9f9-c164-485a-b9b2-8089154d3a26",
   "metadata": {},
   "outputs": [],
   "source": []
  }
 ],
 "metadata": {
  "kernelspec": {
   "display_name": "Python 3 (ipykernel)",
   "language": "python",
   "name": "python3"
  },
  "language_info": {
   "codemirror_mode": {
    "name": "ipython",
    "version": 3
   },
   "file_extension": ".py",
   "mimetype": "text/x-python",
   "name": "python",
   "nbconvert_exporter": "python",
   "pygments_lexer": "ipython3",
   "version": "3.12.7"
  }
 },
 "nbformat": 4,
 "nbformat_minor": 5
}
